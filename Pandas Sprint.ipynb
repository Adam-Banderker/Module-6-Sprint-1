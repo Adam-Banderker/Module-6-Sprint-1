{
 "cells": [
  {
   "cell_type": "code",
   "execution_count": 25,
   "metadata": {},
   "outputs": [
    {
     "data": {
      "text/html": [
       "<div>\n",
       "<style scoped>\n",
       "    .dataframe tbody tr th:only-of-type {\n",
       "        vertical-align: middle;\n",
       "    }\n",
       "\n",
       "    .dataframe tbody tr th {\n",
       "        vertical-align: top;\n",
       "    }\n",
       "\n",
       "    .dataframe thead th {\n",
       "        text-align: right;\n",
       "    }\n",
       "</style>\n",
       "<table border=\"1\" class=\"dataframe\">\n",
       "  <thead>\n",
       "    <tr style=\"text-align: right;\">\n",
       "      <th></th>\n",
       "      <th>Chips</th>\n",
       "      <th>Cooldrink</th>\n",
       "      <th>Chocolate</th>\n",
       "      <th>Pies</th>\n",
       "      <th>Fruit</th>\n",
       "      <th>Cupcakes</th>\n",
       "      <th>Veggies</th>\n",
       "    </tr>\n",
       "  </thead>\n",
       "  <tbody>\n",
       "    <tr>\n",
       "      <th>1</th>\n",
       "      <td>Simba</td>\n",
       "      <td>Coke</td>\n",
       "      <td>Cadbury</td>\n",
       "      <td>Pepper Steak</td>\n",
       "      <td>Pear</td>\n",
       "      <td>Vanilla</td>\n",
       "      <td>Spinach</td>\n",
       "    </tr>\n",
       "    <tr>\n",
       "      <th>2</th>\n",
       "      <td>Lays</td>\n",
       "      <td>Fanta</td>\n",
       "      <td>Tex</td>\n",
       "      <td>Chicken</td>\n",
       "      <td>Apple</td>\n",
       "      <td>Chocolate</td>\n",
       "      <td>Cabbage</td>\n",
       "    </tr>\n",
       "    <tr>\n",
       "      <th>3</th>\n",
       "      <td>NaN</td>\n",
       "      <td>NaN</td>\n",
       "      <td>NaN</td>\n",
       "      <td>NaN</td>\n",
       "      <td>Orange</td>\n",
       "      <td>NaN</td>\n",
       "      <td>NaN</td>\n",
       "    </tr>\n",
       "  </tbody>\n",
       "</table>\n",
       "</div>"
      ],
      "text/plain": [
       "   Chips Cooldrink Chocolate          Pies   Fruit   Cupcakes  Veggies\n",
       "1  Simba      Coke   Cadbury  Pepper Steak    Pear    Vanilla  Spinach\n",
       "2   Lays     Fanta       Tex       Chicken   Apple  Chocolate  Cabbage\n",
       "3    NaN       NaN       NaN           NaN  Orange        NaN      NaN"
      ]
     },
     "execution_count": 25,
     "metadata": {},
     "output_type": "execute_result"
    }
   ],
   "source": [
    "#import numpy & pandas module \n",
    "import numpy as np\n",
    "import pandas as pd\n",
    "\n",
    "# a dictionary to create a series\n",
    "data = {'Chips':pd.Series(['Simba', 'Lays'], index =[1,2]),\n",
    "        'Cooldrink':pd.Series(['Coke', 'Fanta'], index = [1,2]), \n",
    "        'Chocolate':pd.Series(['Cadbury','Tex'], index = [1,2]), \n",
    "        'Pies':pd.Series(['Pepper Steak', 'Chicken'], index = [1,2]), \n",
    "        'Fruit':pd.Series(['Pear','Apple', 'Orange'], index = [1,2,3]), \n",
    "        'Cupcakes': pd.Series(['Vanilla', 'Chocolate'], index = [1,2]), \n",
    "        'Veggies': pd.Series(['Spinach','Cabbage'], index = [1,2])} \n",
    "#create a dataframe from the data\n",
    "df = pd.DataFrame(data)\n",
    "\n",
    "df"
   ]
  },
  {
   "cell_type": "code",
   "execution_count": 39,
   "metadata": {},
   "outputs": [
    {
     "data": {
      "text/html": [
       "<style  type=\"text/css\" >\n",
       "    #T_1b0254dc_bd2b_11ea_800d_a0a4c5bd0c2b th {\n",
       "          background: green;\n",
       "          color: white;\n",
       "          font-family: verdana;\n",
       "    }    #T_1b0254dc_bd2b_11ea_800d_a0a4c5bd0c2b td {\n",
       "          font-family: verdana;\n",
       "    }    #T_1b0254dc_bd2b_11ea_800d_a0a4c5bd0c2b tr:nth-of-type(odd) {\n",
       "          background: #DCDCDC;\n",
       "    }    #T_1b0254dc_bd2b_11ea_800d_a0a4c5bd0c2b tr:nth-of-type(even) {\n",
       "          background: white;\n",
       "    }    #T_1b0254dc_bd2b_11ea_800d_a0a4c5bd0c2b tr:hover {\n",
       "          background-color: #78FF33;\n",
       "    }</style><table id=\"T_1b0254dc_bd2b_11ea_800d_a0a4c5bd0c2b\" ><thead>    <tr>        <th class=\"col_heading level0 col0\" >Chips</th>        <th class=\"col_heading level0 col1\" >Cooldrink</th>        <th class=\"col_heading level0 col2\" >Chocolate</th>        <th class=\"col_heading level0 col3\" >Pies</th>        <th class=\"col_heading level0 col4\" >Fruit</th>        <th class=\"col_heading level0 col5\" >Cupcakes</th>        <th class=\"col_heading level0 col6\" >Veggies</th>    </tr></thead><tbody>\n",
       "                <tr>\n",
       "                                <td id=\"T_1b0254dc_bd2b_11ea_800d_a0a4c5bd0c2brow0_col0\" class=\"data row0 col0\" >Simba</td>\n",
       "                        <td id=\"T_1b0254dc_bd2b_11ea_800d_a0a4c5bd0c2brow0_col1\" class=\"data row0 col1\" >Coke</td>\n",
       "                        <td id=\"T_1b0254dc_bd2b_11ea_800d_a0a4c5bd0c2brow0_col2\" class=\"data row0 col2\" >Cadbury</td>\n",
       "                        <td id=\"T_1b0254dc_bd2b_11ea_800d_a0a4c5bd0c2brow0_col3\" class=\"data row0 col3\" >Pepper Steak</td>\n",
       "                        <td id=\"T_1b0254dc_bd2b_11ea_800d_a0a4c5bd0c2brow0_col4\" class=\"data row0 col4\" >Pear</td>\n",
       "                        <td id=\"T_1b0254dc_bd2b_11ea_800d_a0a4c5bd0c2brow0_col5\" class=\"data row0 col5\" >Vanilla</td>\n",
       "                        <td id=\"T_1b0254dc_bd2b_11ea_800d_a0a4c5bd0c2brow0_col6\" class=\"data row0 col6\" >Spinach</td>\n",
       "            </tr>\n",
       "            <tr>\n",
       "                                <td id=\"T_1b0254dc_bd2b_11ea_800d_a0a4c5bd0c2brow1_col0\" class=\"data row1 col0\" >Lays</td>\n",
       "                        <td id=\"T_1b0254dc_bd2b_11ea_800d_a0a4c5bd0c2brow1_col1\" class=\"data row1 col1\" >Fanta</td>\n",
       "                        <td id=\"T_1b0254dc_bd2b_11ea_800d_a0a4c5bd0c2brow1_col2\" class=\"data row1 col2\" >Tex</td>\n",
       "                        <td id=\"T_1b0254dc_bd2b_11ea_800d_a0a4c5bd0c2brow1_col3\" class=\"data row1 col3\" >Chicken</td>\n",
       "                        <td id=\"T_1b0254dc_bd2b_11ea_800d_a0a4c5bd0c2brow1_col4\" class=\"data row1 col4\" >Apple</td>\n",
       "                        <td id=\"T_1b0254dc_bd2b_11ea_800d_a0a4c5bd0c2brow1_col5\" class=\"data row1 col5\" >Chocolate</td>\n",
       "                        <td id=\"T_1b0254dc_bd2b_11ea_800d_a0a4c5bd0c2brow1_col6\" class=\"data row1 col6\" >Cabbage</td>\n",
       "            </tr>\n",
       "            <tr>\n",
       "                                <td id=\"T_1b0254dc_bd2b_11ea_800d_a0a4c5bd0c2brow2_col0\" class=\"data row2 col0\" >nan</td>\n",
       "                        <td id=\"T_1b0254dc_bd2b_11ea_800d_a0a4c5bd0c2brow2_col1\" class=\"data row2 col1\" >nan</td>\n",
       "                        <td id=\"T_1b0254dc_bd2b_11ea_800d_a0a4c5bd0c2brow2_col2\" class=\"data row2 col2\" >nan</td>\n",
       "                        <td id=\"T_1b0254dc_bd2b_11ea_800d_a0a4c5bd0c2brow2_col3\" class=\"data row2 col3\" >nan</td>\n",
       "                        <td id=\"T_1b0254dc_bd2b_11ea_800d_a0a4c5bd0c2brow2_col4\" class=\"data row2 col4\" >Orange</td>\n",
       "                        <td id=\"T_1b0254dc_bd2b_11ea_800d_a0a4c5bd0c2brow2_col5\" class=\"data row2 col5\" >nan</td>\n",
       "                        <td id=\"T_1b0254dc_bd2b_11ea_800d_a0a4c5bd0c2brow2_col6\" class=\"data row2 col6\" >nan</td>\n",
       "            </tr>\n",
       "    </tbody></table>"
      ],
      "text/plain": [
       "<pandas.io.formats.style.Styler at 0x14bb1feb548>"
      ]
     },
     "execution_count": 39,
     "metadata": {},
     "output_type": "execute_result"
    }
   ],
   "source": [
    "df.head(3).style.set_table_styles(\n",
    "[{'selector': 'th',\n",
    "  'props': [('background', 'green'), \n",
    "            ('color', 'white'),\n",
    "            ('font-family', 'verdana')]},\n",
    " \n",
    " {'selector': 'td',\n",
    "  'props': [('font-family', 'verdana')]},\n",
    "\n",
    " {'selector': 'tr:nth-of-type(odd)',\n",
    "  'props': [('background', '#DCDCDC')]}, \n",
    " \n",
    " {'selector': 'tr:nth-of-type(even)',\n",
    "  'props': [('background', 'white')]},\n",
    "  \n",
    " {'selector': 'tr:hover',\n",
    "  'props': [('background-color', '#78FF33')]}\n",
    "]\n",
    ").hide_index()\n"
   ]
  },
  {
   "cell_type": "code",
   "execution_count": null,
   "metadata": {},
   "outputs": [],
   "source": []
  },
  {
   "cell_type": "code",
   "execution_count": null,
   "metadata": {},
   "outputs": [],
   "source": []
  }
 ],
 "metadata": {
  "kernelspec": {
   "display_name": "Python 3",
   "language": "python",
   "name": "python3"
  },
  "language_info": {
   "codemirror_mode": {
    "name": "ipython",
    "version": 3
   },
   "file_extension": ".py",
   "mimetype": "text/x-python",
   "name": "python",
   "nbconvert_exporter": "python",
   "pygments_lexer": "ipython3",
   "version": "3.7.6"
  }
 },
 "nbformat": 4,
 "nbformat_minor": 4
}
