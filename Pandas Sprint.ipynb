{
 "cells": [
  {
   "cell_type": "code",
   "execution_count": 25,
   "metadata": {},
   "outputs": [
    {
     "data": {
      "text/html": [
       "<div>\n",
       "<style scoped>\n",
       "    .dataframe tbody tr th:only-of-type {\n",
       "        vertical-align: middle;\n",
       "    }\n",
       "\n",
       "    .dataframe tbody tr th {\n",
       "        vertical-align: top;\n",
       "    }\n",
       "\n",
       "    .dataframe thead th {\n",
       "        text-align: right;\n",
       "    }\n",
       "</style>\n",
       "<table border=\"1\" class=\"dataframe\">\n",
       "  <thead>\n",
       "    <tr style=\"text-align: right;\">\n",
       "      <th></th>\n",
       "      <th>Chips</th>\n",
       "      <th>Cooldrink</th>\n",
       "      <th>Chocolate</th>\n",
       "      <th>Pies</th>\n",
       "      <th>Fruit</th>\n",
       "      <th>Cupcakes</th>\n",
       "      <th>Veggies</th>\n",
       "    </tr>\n",
       "  </thead>\n",
       "  <tbody>\n",
       "    <tr>\n",
       "      <th>1</th>\n",
       "      <td>Simba</td>\n",
       "      <td>Coke</td>\n",
       "      <td>Cadbury</td>\n",
       "      <td>Pepper Steak</td>\n",
       "      <td>Pear</td>\n",
       "      <td>Vanilla</td>\n",
       "      <td>Spinach</td>\n",
       "    </tr>\n",
       "    <tr>\n",
       "      <th>2</th>\n",
       "      <td>Lays</td>\n",
       "      <td>Fanta</td>\n",
       "      <td>Tex</td>\n",
       "      <td>Chicken</td>\n",
       "      <td>Apple</td>\n",
       "      <td>Chocolate</td>\n",
       "      <td>Cabbage</td>\n",
       "    </tr>\n",
       "    <tr>\n",
       "      <th>3</th>\n",
       "      <td>NaN</td>\n",
       "      <td>NaN</td>\n",
       "      <td>NaN</td>\n",
       "      <td>NaN</td>\n",
       "      <td>Orange</td>\n",
       "      <td>NaN</td>\n",
       "      <td>NaN</td>\n",
       "    </tr>\n",
       "  </tbody>\n",
       "</table>\n",
       "</div>"
      ],
      "text/plain": [
       "   Chips Cooldrink Chocolate          Pies   Fruit   Cupcakes  Veggies\n",
       "1  Simba      Coke   Cadbury  Pepper Steak    Pear    Vanilla  Spinach\n",
       "2   Lays     Fanta       Tex       Chicken   Apple  Chocolate  Cabbage\n",
       "3    NaN       NaN       NaN           NaN  Orange        NaN      NaN"
      ]
     },
     "execution_count": 25,
     "metadata": {},
     "output_type": "execute_result"
    }
   ],
   "source": [
    "#import numpy & pandas module \n",
    "import numpy as np\n",
    "import pandas as pd\n",
    "\n",
    "# a dictionary to create a series\n",
    "data = {'Chips':pd.Series(['Simba', 'Lays'], index =[1,2]),\n",
    "        'Cooldrink':pd.Series(['Coke', 'Fanta'], index = [1,2]), \n",
    "        'Chocolate':pd.Series(['Cadbury','Tex'], index = [1,2]), \n",
    "        'Pies':pd.Series(['Pepper Steak', 'Chicken'], index = [1,2]), \n",
    "        'Fruit':pd.Series(['Pear','Apple', 'Orange'], index = [1,2,3]), \n",
    "        'Cupcakes': pd.Series(['Vanilla', 'Chocolate'], index = [1,2]), \n",
    "        'Veggies': pd.Series(['Spinach','Cabbage'], index = [1,2])} \n",
    "#create a dataframe from the data\n",
    "df = pd.DataFrame(data)\n",
    "\n",
    "df"
   ]
  },
  {
   "cell_type": "code",
   "execution_count": 19,
   "metadata": {},
   "outputs": [
    {
     "data": {
      "text/html": [
       "<div>\n",
       "<style scoped>\n",
       "    .dataframe tbody tr th:only-of-type {\n",
       "        vertical-align: middle;\n",
       "    }\n",
       "\n",
       "    .dataframe tbody tr th {\n",
       "        vertical-align: top;\n",
       "    }\n",
       "\n",
       "    .dataframe thead th {\n",
       "        text-align: right;\n",
       "    }\n",
       "</style>\n",
       "<table border=\"1\" class=\"dataframe\">\n",
       "  <thead>\n",
       "    <tr style=\"text-align: right;\">\n",
       "      <th></th>\n",
       "      <th>Chips</th>\n",
       "      <th>Cooldrink</th>\n",
       "      <th>Chocolate</th>\n",
       "      <th>Pies</th>\n",
       "      <th>Fruit</th>\n",
       "      <th>Cupcakes</th>\n",
       "      <th>Veggies</th>\n",
       "    </tr>\n",
       "  </thead>\n",
       "  <tbody>\n",
       "    <tr>\n",
       "      <th>1</th>\n",
       "      <td>Simba</td>\n",
       "      <td>Coke</td>\n",
       "      <td>Cadbury</td>\n",
       "      <td>Pepper Steak</td>\n",
       "      <td>Pear</td>\n",
       "      <td>Vanilla</td>\n",
       "      <td>Spinach</td>\n",
       "    </tr>\n",
       "    <tr>\n",
       "      <th>2</th>\n",
       "      <td>Lays</td>\n",
       "      <td>Fanta</td>\n",
       "      <td>Tex</td>\n",
       "      <td>Chicken</td>\n",
       "      <td>Apple</td>\n",
       "      <td>Chocolate</td>\n",
       "      <td>Cabbage</td>\n",
       "    </tr>\n",
       "    <tr>\n",
       "      <th>3</th>\n",
       "      <td>None</td>\n",
       "      <td>None</td>\n",
       "      <td>None</td>\n",
       "      <td>None</td>\n",
       "      <td>Orange</td>\n",
       "      <td>None</td>\n",
       "      <td>None</td>\n",
       "    </tr>\n",
       "  </tbody>\n",
       "</table>\n",
       "</div>"
      ],
      "text/plain": [
       "   Chips Cooldrink Chocolate          Pies   Fruit   Cupcakes  Veggies\n",
       "1  Simba      Coke   Cadbury  Pepper Steak    Pear    Vanilla  Spinach\n",
       "2   Lays     Fanta       Tex       Chicken   Apple  Chocolate  Cabbage\n",
       "3   None      None      None          None  Orange       None     None"
      ]
     },
     "execution_count": 19,
     "metadata": {},
     "output_type": "execute_result"
    }
   ],
   "source": [
    "#replace all NaN with \"None\"\n",
    "df.fillna('None')"
   ]
  },
  {
   "cell_type": "code",
   "execution_count": null,
   "metadata": {},
   "outputs": [],
   "source": []
  },
  {
   "cell_type": "code",
   "execution_count": null,
   "metadata": {},
   "outputs": [],
   "source": []
  }
 ],
 "metadata": {
  "kernelspec": {
   "display_name": "Python 3",
   "language": "python",
   "name": "python3"
  },
  "language_info": {
   "codemirror_mode": {
    "name": "ipython",
    "version": 3
   },
   "file_extension": ".py",
   "mimetype": "text/x-python",
   "name": "python",
   "nbconvert_exporter": "python",
   "pygments_lexer": "ipython3",
   "version": "3.7.6"
  }
 },
 "nbformat": 4,
 "nbformat_minor": 4
}
